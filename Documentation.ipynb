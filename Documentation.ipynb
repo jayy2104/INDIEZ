{
    "metadata": {
        "kernelspec": {
            "name": "SQL",
            "display_name": "SQL",
            "language": "sql"
        },
        "language_info": {
            "name": "sql",
            "version": ""
        }
    },
    "nbformat_minor": 2,
    "nbformat": 4,
    "cells": [
        {
            "cell_type": "markdown",
            "source": [
                "# **INDIEZ PERFORMANCE TEST**\n",
                "\n",
                "## Position: **Game LiveOps Analyst**\n",
                "\n",
                "## <span style=\"color: var(--vscode-foreground);\">Name: <b>Vo Tu Anh</b></span>"
            ],
            "metadata": {
                "azdata_cell_guid": "4ff11607-7769-4725-b8b6-62a29776ffbd"
            },
            "attachments": {}
        },
        {
            "cell_type": "markdown",
            "source": [
                "# **Scenario**\n",
                "\n",
                "INDIEZ is a gaming company who aims to bring the best experience to their users through hypercasual game products.\n",
                "\n",
                "One of their games, \"Pixel Art\", has been under reconfiguration from version 1.5.2 to 1.6.0 with renovation in the in-game tutorial. The LiveOps analysts of the company believe that changes in the tutorial will result in better user experience (UX), hence enhancing the roll-out rate of the game."
            ],
            "metadata": {
                "azdata_cell_guid": "08c78fdd-f682-4d80-8d0e-ad72b9621c45"
            },
            "attachments": {}
        },
        {
            "cell_type": "markdown",
            "source": [
                "# **Defining the problem**\n",
                "\n",
                "The main problem is to **_improve the user experience (UX) in the 1.6.0 version_**. There are two questions that can guide the improvement program:\n",
                "\n",
                "1. Are there any differences between 1.5.2 and 1.6.0 users in terms of tutorial participation?\n",
                "2. Is it possible to roll out 100% game version 1.6.0 to all users, given the available roll-out rate at the moment of this analysis is 50%?\n",
                "\n",
                "By looking at historical data, we will be able to get a sense of certain patterns that occured in general and in two groups of users, thus understanding the accurate user profiles and coming up with corresponding tactics.\n",
                "\n",
                "> **<u>Main task</u>**: Analyze historical game data to identify the patterns in game play of users in version 1.5.2 and 1.6.0."
            ],
            "metadata": {
                "azdata_cell_guid": "df277007-8296-462e-9994-433933bfa22b"
            },
            "attachments": {}
        },
        {
            "cell_type": "markdown",
            "source": [
                "# **Data sources**\n",
                "\n",
                "The data being used in this analysis is ranged from 28/10/2023 to 10/11/2023. The data is officially collected and provided by INDIEZ and made available [here](https:\\drive.google.com\\file\\d\\1aNXHaU1iZIrn5siF6i5EwjrxmAkct47d\\view). \n",
                "\n",
                "The whole process below, from cleaning to analyzing, is performed on Azure Data Studio using SQL. Due to the disadvantages of performing statistical procedures by SQL, some statistical information of the data will be extracted using other specialized tools."
            ],
            "metadata": {
                "azdata_cell_guid": "48d2cb1d-7469-4124-a065-079d38386f7b"
            },
            "attachments": {}
        },
        {
            "cell_type": "markdown",
            "source": [
                "# **Analysis**\n",
                "\n",
                "## **Inspecting the data**\n",
                "\n",
                "The query below gives a sneak peek of the data."
            ],
            "metadata": {
                "azdata_cell_guid": "b6771ccb-eb64-446f-9ddd-9f8495a1530e"
            },
            "attachments": {}
        },
        {
            "cell_type": "code",
            "source": [
                "SELECT \r\n",
                "    TOP 10 *\r\n",
                "FROM\r\n",
                "    indiez..data_interview"
            ],
            "metadata": {
                "azdata_cell_guid": "ce7ce438-2efc-449d-bdef-47e578f5d9d2",
                "language": "sql",
                "tags": [
                    "hide_input"
                ]
            },
            "outputs": [
                {
                    "output_type": "display_data",
                    "data": {
                        "text/html": "(10 rows affected)"
                    },
                    "metadata": {}
                },
                {
                    "output_type": "display_data",
                    "data": {
                        "text/html": "Total execution time: 00:00:00.084"
                    },
                    "metadata": {}
                },
                {
                    "output_type": "execute_result",
                    "execution_count": 1,
                    "data": {
                        "application/vnd.dataresource+json": {
                            "schema": {
                                "fields": [
                                    {
                                        "name": "column1"
                                    },
                                    {
                                        "name": "date_time"
                                    },
                                    {
                                        "name": "event_name"
                                    },
                                    {
                                        "name": "level"
                                    },
                                    {
                                        "name": "user"
                                    },
                                    {
                                        "name": "day_diff"
                                    },
                                    {
                                        "name": "day0"
                                    },
                                    {
                                        "name": "mode_game"
                                    },
                                    {
                                        "name": "win"
                                    },
                                    {
                                        "name": "reason_to_die"
                                    },
                                    {
                                        "name": "quantity"
                                    },
                                    {
                                        "name": "version"
                                    }
                                ]
                            },
                            "data": [
                                {
                                    "column1": "40",
                                    "date_time": "2023-10-28",
                                    "event_name": "game_start",
                                    "level": "1",
                                    "user": "1cffd052-4616-4d29-bfd5-950e23b763d4",
                                    "day_diff": "0",
                                    "day0": "2023-10-28",
                                    "mode_game": "normal",
                                    "win": "NULL",
                                    "reason_to_die": "NULL",
                                    "quantity": "0",
                                    "version": "1.6.0"
                                },
                                {
                                    "column1": "41",
                                    "date_time": "2023-10-28",
                                    "event_name": "game_start",
                                    "level": "1",
                                    "user": "1cffd052-4616-4d29-bfd5-950e23b763d4",
                                    "day_diff": "0",
                                    "day0": "2023-10-28",
                                    "mode_game": "normal",
                                    "win": "NULL",
                                    "reason_to_die": "NULL",
                                    "quantity": "0",
                                    "version": "1.6.0"
                                },
                                {
                                    "column1": "42",
                                    "date_time": "2023-10-28",
                                    "event_name": "game_start",
                                    "level": "2",
                                    "user": "1cffd052-4616-4d29-bfd5-950e23b763d4",
                                    "day_diff": "0",
                                    "day0": "2023-10-28",
                                    "mode_game": "normal",
                                    "win": "NULL",
                                    "reason_to_die": "NULL",
                                    "quantity": "0",
                                    "version": "1.6.0"
                                },
                                {
                                    "column1": "43",
                                    "date_time": "2023-10-28",
                                    "event_name": "game_start",
                                    "level": "3",
                                    "user": "1cffd052-4616-4d29-bfd5-950e23b763d4",
                                    "day_diff": "0",
                                    "day0": "2023-10-28",
                                    "mode_game": "normal",
                                    "win": "NULL",
                                    "reason_to_die": "NULL",
                                    "quantity": "0",
                                    "version": "1.6.0"
                                },
                                {
                                    "column1": "44",
                                    "date_time": "2023-10-28",
                                    "event_name": "game_start",
                                    "level": "4",
                                    "user": "1cffd052-4616-4d29-bfd5-950e23b763d4",
                                    "day_diff": "0",
                                    "day0": "2023-10-28",
                                    "mode_game": "normal",
                                    "win": "NULL",
                                    "reason_to_die": "NULL",
                                    "quantity": "0",
                                    "version": "1.6.0"
                                },
                                {
                                    "column1": "45",
                                    "date_time": "2023-10-30",
                                    "event_name": "game_start",
                                    "level": "5",
                                    "user": "1cffd052-4616-4d29-bfd5-950e23b763d4",
                                    "day_diff": "2",
                                    "day0": "2023-10-28",
                                    "mode_game": "normal",
                                    "win": "NULL",
                                    "reason_to_die": "NULL",
                                    "quantity": "0",
                                    "version": "1.6.0"
                                },
                                {
                                    "column1": "46",
                                    "date_time": "2023-10-30",
                                    "event_name": "game_start",
                                    "level": "5",
                                    "user": "1cffd052-4616-4d29-bfd5-950e23b763d4",
                                    "day_diff": "2",
                                    "day0": "2023-10-28",
                                    "mode_game": "normal",
                                    "win": "NULL",
                                    "reason_to_die": "NULL",
                                    "quantity": "0",
                                    "version": "1.6.0"
                                },
                                {
                                    "column1": "47",
                                    "date_time": "2023-11-02",
                                    "event_name": "game_start",
                                    "level": "5",
                                    "user": "1cffd052-4616-4d29-bfd5-950e23b763d4",
                                    "day_diff": "5",
                                    "day0": "2023-10-28",
                                    "mode_game": "normal",
                                    "win": "NULL",
                                    "reason_to_die": "NULL",
                                    "quantity": "0",
                                    "version": "1.6.0"
                                },
                                {
                                    "column1": "48",
                                    "date_time": "2023-10-28",
                                    "event_name": "game_end",
                                    "level": "1",
                                    "user": "1cffd052-4616-4d29-bfd5-950e23b763d4",
                                    "day_diff": "0",
                                    "day0": "2023-10-28",
                                    "mode_game": "normal",
                                    "win": "0",
                                    "reason_to_die": "out_of_lives",
                                    "quantity": "31",
                                    "version": "1.6.0"
                                },
                                {
                                    "column1": "49",
                                    "date_time": "2023-10-28",
                                    "event_name": "game_end",
                                    "level": "1",
                                    "user": "1cffd052-4616-4d29-bfd5-950e23b763d4",
                                    "day_diff": "0",
                                    "day0": "2023-10-28",
                                    "mode_game": "normal",
                                    "win": "1",
                                    "reason_to_die": "NULL",
                                    "quantity": "18",
                                    "version": "1.6.0"
                                }
                            ]
                        },
                        "text/html": "<table><tr><th>column1</th><th>date_time</th><th>event_name</th><th>level</th><th>user</th><th>day_diff</th><th>day0</th><th>mode_game</th><th>win</th><th>reason_to_die</th><th>quantity</th><th>version</th></tr><tr><td>40</td><td>2023-10-28</td><td>game_start</td><td>1</td><td>1cffd052-4616-4d29-bfd5-950e23b763d4</td><td>0</td><td>2023-10-28</td><td>normal</td><td>NULL</td><td>NULL</td><td>0</td><td>1.6.0</td></tr><tr><td>41</td><td>2023-10-28</td><td>game_start</td><td>1</td><td>1cffd052-4616-4d29-bfd5-950e23b763d4</td><td>0</td><td>2023-10-28</td><td>normal</td><td>NULL</td><td>NULL</td><td>0</td><td>1.6.0</td></tr><tr><td>42</td><td>2023-10-28</td><td>game_start</td><td>2</td><td>1cffd052-4616-4d29-bfd5-950e23b763d4</td><td>0</td><td>2023-10-28</td><td>normal</td><td>NULL</td><td>NULL</td><td>0</td><td>1.6.0</td></tr><tr><td>43</td><td>2023-10-28</td><td>game_start</td><td>3</td><td>1cffd052-4616-4d29-bfd5-950e23b763d4</td><td>0</td><td>2023-10-28</td><td>normal</td><td>NULL</td><td>NULL</td><td>0</td><td>1.6.0</td></tr><tr><td>44</td><td>2023-10-28</td><td>game_start</td><td>4</td><td>1cffd052-4616-4d29-bfd5-950e23b763d4</td><td>0</td><td>2023-10-28</td><td>normal</td><td>NULL</td><td>NULL</td><td>0</td><td>1.6.0</td></tr><tr><td>45</td><td>2023-10-30</td><td>game_start</td><td>5</td><td>1cffd052-4616-4d29-bfd5-950e23b763d4</td><td>2</td><td>2023-10-28</td><td>normal</td><td>NULL</td><td>NULL</td><td>0</td><td>1.6.0</td></tr><tr><td>46</td><td>2023-10-30</td><td>game_start</td><td>5</td><td>1cffd052-4616-4d29-bfd5-950e23b763d4</td><td>2</td><td>2023-10-28</td><td>normal</td><td>NULL</td><td>NULL</td><td>0</td><td>1.6.0</td></tr><tr><td>47</td><td>2023-11-02</td><td>game_start</td><td>5</td><td>1cffd052-4616-4d29-bfd5-950e23b763d4</td><td>5</td><td>2023-10-28</td><td>normal</td><td>NULL</td><td>NULL</td><td>0</td><td>1.6.0</td></tr><tr><td>48</td><td>2023-10-28</td><td>game_end</td><td>1</td><td>1cffd052-4616-4d29-bfd5-950e23b763d4</td><td>0</td><td>2023-10-28</td><td>normal</td><td>0</td><td>out_of_lives</td><td>31</td><td>1.6.0</td></tr><tr><td>49</td><td>2023-10-28</td><td>game_end</td><td>1</td><td>1cffd052-4616-4d29-bfd5-950e23b763d4</td><td>0</td><td>2023-10-28</td><td>normal</td><td>1</td><td>NULL</td><td>18</td><td>1.6.0</td></tr></table>"
                    },
                    "metadata": {}
                }
            ],
            "execution_count": 1
        },
        {
            "cell_type": "markdown",
            "source": [
                "From the data, we can generally see that:\n",
                "\n",
                "- One user can have multiple entries based on different `event_name`, day, `mode_game` and win-lose status of the level. After extracting, it reveals that there are **_6671 users playing version 1.5.2_** and **_6929 users playing version 1.6.0_**.\n",
                "- Mostly, players lost a round because of running out of lives. However, there exists another reason of losing which is '_out of lives plus_'. It can be assumed from the gameplay that '_out of lives plus_' occured when players ran out of 3 given lives, watched ads to gain more life to continue the level but still lost."
            ],
            "metadata": {
                "azdata_cell_guid": "304e4046-3880-408d-b52a-1346d3ea20f2"
            },
            "attachments": {}
        },
        {
            "cell_type": "markdown",
            "source": [
                "## **Tutorial completion rate**\n",
                "\n",
                "The query below is written to reveal the percentage of players from both versions who had completed the tutorial game."
            ],
            "metadata": {
                "azdata_cell_guid": "9594a992-fdff-4b72-92b4-5b9ba0a189f6"
            },
            "attachments": {}
        },
        {
            "cell_type": "code",
            "source": [
                "SELECT\r\n",
                "    total_table.version,\r\n",
                "    total_users,\r\n",
                "    tutorial_players,\r\n",
                "    (CAST(tutorial_players AS float)/CAST(total_users AS float))*100 AS percentage\r\n",
                "FROM \r\n",
                "    (SELECT\r\n",
                "        version,\r\n",
                "        COUNT(DISTINCT [user]) AS total_users\r\n",
                "    FROM \r\n",
                "        indiez..data_interview\r\n",
                "    group by \r\n",
                "        version) AS total_table\r\n",
                "    JOIN\r\n",
                "    (SELECT\r\n",
                "        version,\r\n",
                "        COUNT(DISTINCT [user]) AS tutorial_players\r\n",
                "    FROM\r\n",
                "        indiez..data_interview\r\n",
                "    WHERE\r\n",
                "        quantity = -2\r\n",
                "    GROUP BY\r\n",
                "        [version]) AS tutorial_table\r\n",
                "    ON total_table.version = tutorial_table.[version]"
            ],
            "metadata": {
                "azdata_cell_guid": "f2f03d4f-ebd4-49b2-90e0-7335536631ca",
                "language": "sql",
                "tags": [
                    "hide_input"
                ]
            },
            "outputs": [
                {
                    "output_type": "display_data",
                    "data": {
                        "text/html": "(2 rows affected)"
                    },
                    "metadata": {}
                },
                {
                    "output_type": "display_data",
                    "data": {
                        "text/html": "Total execution time: 00:00:00.917"
                    },
                    "metadata": {}
                },
                {
                    "output_type": "execute_result",
                    "execution_count": 1,
                    "data": {
                        "application/vnd.dataresource+json": {
                            "schema": {
                                "fields": [
                                    {
                                        "name": "version"
                                    },
                                    {
                                        "name": "total_users"
                                    },
                                    {
                                        "name": "tutorial_players"
                                    },
                                    {
                                        "name": "percentage"
                                    }
                                ]
                            },
                            "data": [
                                {
                                    "version": "1.5.2",
                                    "total_users": "6671",
                                    "tutorial_players": "6341",
                                    "percentage": "95.05321540998352"
                                },
                                {
                                    "version": "1.6.0",
                                    "total_users": "6929",
                                    "tutorial_players": "6571",
                                    "percentage": "94.83330927983836"
                                }
                            ]
                        },
                        "text/html": "<table><tr><th>version</th><th>total_users</th><th>tutorial_players</th><th>percentage</th></tr><tr><td>1.5.2</td><td>6671</td><td>6341</td><td>95.05321540998352</td></tr><tr><td>1.6.0</td><td>6929</td><td>6571</td><td>94.83330927983836</td></tr></table>"
                    },
                    "metadata": {}
                }
            ],
            "execution_count": 1
        },
        {
            "cell_type": "markdown",
            "source": [
                "It can be seen that there were approximately 95% players from version 1.5.2 who completed the in-game tutorial, while in 1.6.0 the number was about 94.8%. There is barely any difference between two versions: Most users would finish the in-game tutorial before getting started with the first levels."
            ],
            "metadata": {
                "language": "sql",
                "azdata_cell_guid": "3f88aa32-e4ac-4282-a899-dd8f87b3f4cf"
            },
            "attachments": {}
        },
        {
            "cell_type": "markdown",
            "source": [
                "## **Retention rate**\n",
                "\n",
                "The table below shows the retention rate of players in version 1.5.2 and 1.6.0. Since the available data only records the activities in 7 consecutive days since the players' first time opening the game in the given time range, the retention rate is calculated in this 7-day timeframe only."
            ],
            "metadata": {
                "azdata_cell_guid": "3093a0d0-a81b-4ea2-95cf-b7e2cf32c5c2"
            },
            "attachments": {}
        },
        {
            "cell_type": "code",
            "source": [
                "SELECT\r\n",
                "    table_152.day_diff,\r\n",
                "    players_152,\r\n",
                "    percentage_152,\r\n",
                "    players_160,\r\n",
                "    percentage_160\r\n",
                "FROM (\r\n",
                "    SELECT\r\n",
                "        day_diff,\r\n",
                "        COUNT(day_diff) AS players_152,\r\n",
                "        ROUND(\r\n",
                "            (CAST(COUNT(day_diff) AS float)/(\r\n",
                "                SELECT \r\n",
                "                    COUNT(DISTINCT[user]) \r\n",
                "                FROM \r\n",
                "                    indiez..data_interview \r\n",
                "                WHERE \r\n",
                "                    version = '1.5.2'\r\n",
                "                ))*100, 2) AS percentage_152\r\n",
                "    FROM \r\n",
                "        (\r\n",
                "        SELECT\r\n",
                "            DISTINCT [user],\r\n",
                "            day_diff,\r\n",
                "            version\r\n",
                "        FROM\r\n",
                "            indiez..data_interview\r\n",
                "        ) AS day_diff_table\r\n",
                "    WHERE\r\n",
                "        version = '1.5.2'\r\n",
                "    GROUP BY\r\n",
                "        day_diff) AS table_152\r\n",
                "\r\n",
                "    JOIN (\r\n",
                "    SELECT\r\n",
                "        day_diff,\r\n",
                "        COUNT(day_diff) AS players_160,\r\n",
                "        ROUND(\r\n",
                "            (CAST(COUNT(day_diff) AS float)/(\r\n",
                "                SELECT \r\n",
                "                    COUNT(DISTINCT[user]) \r\n",
                "                FROM    \r\n",
                "                    indiez..data_interview \r\n",
                "                WHERE \r\n",
                "                    version = '1.6.0'\r\n",
                "            ))*100, 2) AS percentage_160\r\n",
                "    FROM \r\n",
                "        (\r\n",
                "        SELECT\r\n",
                "            DISTINCT [user],\r\n",
                "            day_diff,\r\n",
                "            version\r\n",
                "        FROM\r\n",
                "            indiez..data_interview\r\n",
                "        ) AS day_diff_table\r\n",
                "    WHERE\r\n",
                "        version = '1.6.0'\r\n",
                "    GROUP BY\r\n",
                "        day_diff) AS table_160\r\n",
                "\r\n",
                "    ON table_152.day_diff = table_160.day_diff\r\n",
                "WHERE\r\n",
                "    table_152.day_diff != 0\r\n",
                "ORDER BY\r\n",
                "    table_152.day_diff"
            ],
            "metadata": {
                "azdata_cell_guid": "401af851-3927-4eb9-b2e2-eb1e09f07949",
                "language": "sql",
                "tags": [
                    "hide_input"
                ]
            },
            "outputs": [
                {
                    "output_type": "display_data",
                    "data": {
                        "text/html": "(7 rows affected)"
                    },
                    "metadata": {}
                },
                {
                    "output_type": "display_data",
                    "data": {
                        "text/html": "Total execution time: 00:00:01.644"
                    },
                    "metadata": {}
                },
                {
                    "output_type": "execute_result",
                    "metadata": {},
                    "execution_count": 2,
                    "data": {
                        "application/vnd.dataresource+json": {
                            "schema": {
                                "fields": [
                                    {
                                        "name": "day_diff"
                                    },
                                    {
                                        "name": "players_152"
                                    },
                                    {
                                        "name": "percentage_152"
                                    },
                                    {
                                        "name": "players_160"
                                    },
                                    {
                                        "name": "percentage_160"
                                    }
                                ]
                            },
                            "data": [
                                {
                                    "day_diff": "1",
                                    "players_152": "1780",
                                    "percentage_152": "26.68",
                                    "players_160": "1981",
                                    "percentage_160": "28.59"
                                },
                                {
                                    "day_diff": "2",
                                    "players_152": "891",
                                    "percentage_152": "13.36",
                                    "players_160": "1036",
                                    "percentage_160": "14.95"
                                },
                                {
                                    "day_diff": "3",
                                    "players_152": "517",
                                    "percentage_152": "7.75",
                                    "players_160": "714",
                                    "percentage_160": "10.3"
                                },
                                {
                                    "day_diff": "4",
                                    "players_152": "385",
                                    "percentage_152": "5.77",
                                    "players_160": "520",
                                    "percentage_160": "7.5"
                                },
                                {
                                    "day_diff": "5",
                                    "players_152": "275",
                                    "percentage_152": "4.12",
                                    "players_160": "423",
                                    "percentage_160": "6.1"
                                },
                                {
                                    "day_diff": "6",
                                    "players_152": "202",
                                    "percentage_152": "3.03",
                                    "players_160": "334",
                                    "percentage_160": "4.82"
                                },
                                {
                                    "day_diff": "7",
                                    "players_152": "183",
                                    "percentage_152": "2.74",
                                    "players_160": "289",
                                    "percentage_160": "4.17"
                                }
                            ]
                        },
                        "text/html": [
                            "<table>",
                            "<tr><th>day_diff</th><th>players_152</th><th>percentage_152</th><th>players_160</th><th>percentage_160</th></tr>",
                            "<tr><td>1</td><td>1780</td><td>26.68</td><td>1981</td><td>28.59</td></tr>",
                            "<tr><td>2</td><td>891</td><td>13.36</td><td>1036</td><td>14.95</td></tr>",
                            "<tr><td>3</td><td>517</td><td>7.75</td><td>714</td><td>10.3</td></tr>",
                            "<tr><td>4</td><td>385</td><td>5.77</td><td>520</td><td>7.5</td></tr>",
                            "<tr><td>5</td><td>275</td><td>4.12</td><td>423</td><td>6.1</td></tr>",
                            "<tr><td>6</td><td>202</td><td>3.03</td><td>334</td><td>4.82</td></tr>",
                            "<tr><td>7</td><td>183</td><td>2.74</td><td>289</td><td>4.17</td></tr>",
                            "</table>"
                        ]
                    }
                }
            ],
            "execution_count": 2
        },
        {
            "cell_type": "markdown",
            "source": [
                "An acceptable and prominent retention rate for mobile games on day 1 is usually about 30-40%. Both versions had the retention rate of about 27-28%, which was a very good starting point. However, the game was not stable since there was a drop in retention rate of both versions since day 2. Until day 7, the retention rate of version 1.5.2 was 2.74% while that of version 1.6.0 was 4.17%.\n",
                "\n",
                "When comparing two versions, it can be seen that the retention rate of version 1.6.0 is slightly higher than 1.5.2 throughout the first 7 days, which means there was a higher chance thats players in version 1.6.0 return to the game. This finding can be a support for the hypothesis that version 1.6.0 has higher UX."
            ],
            "metadata": {
                "language": "sql",
                "azdata_cell_guid": "02a2d1ec-b7a5-4e23-b66e-802496a11271"
            },
            "attachments": {}
        },
        {
            "cell_type": "markdown",
            "source": [
                "## **Average user engagement**\n",
                "\n",
                "<span style=\"color: var(--vscode-foreground);\">Due to disadvantages in extracting statistical data using SQL,</span> <span style=\"color: var(--vscode-foreground);\">to check the statistical information of user engagement, other specialized statistical tools were used. The result is shown in the following images.</span>\n",
                "\n",
                "### <span style=\"color: var(--vscode-foreground);\"><b>Average user engagement in version 1.5.2</b></span>\n",
                "\n",
                "![](.\\user-engagement-152.png)\n",
                "\n",
                "### **Average user engagement in version 1.6.0**\n",
                "\n",
                "![](.\\user-engagement-160.png)\n",
                "\n",
                "On average, in both versions, users engaged in the game around 5 times in 7 days. However, the highest engagement in version 1.5.2 is much higher than that of version 1.6.0, 1249 times in 7 days compared to 896 times. Beside that, other statistical information of version 1.6.0 is higher comparing to 1.5.2."
            ],
            "metadata": {
                "language": "sql",
                "azdata_cell_guid": "1df9036c-2647-46f2-a79e-d40f67d7da64"
            },
            "attachments": {}
        },
        {
            "cell_type": "markdown",
            "source": [
                "## **Maximum level by player**\n",
                "\n",
                "The two queries below show the maximum levels of all players from version 1.5.2 and 1.6.0."
            ],
            "metadata": {
                "azdata_cell_guid": "a20f8437-6fe7-45d5-a6d3-ac317df86826"
            },
            "attachments": {}
        },
        {
            "cell_type": "code",
            "source": [
                "SELECT\r\n",
                "    DISTINCT [user],\r\n",
                "    MAX(level) OVER (PARTITION BY [user]) AS maximum_level\r\n",
                "FROM \r\n",
                "    indiez..data_interview\r\n",
                "WHERE\r\n",
                "    version = '1.5.2'"
            ],
            "metadata": {
                "language": "sql",
                "azdata_cell_guid": "c3f31480-a38e-4d21-b0eb-4b16dfb0ad4f",
                "tags": [
                    "hide_input"
                ]
            },
            "outputs": [],
            "execution_count": null
        },
        {
            "cell_type": "code",
            "source": [
                "SELECT\r\n",
                "    DISTINCT [user],\r\n",
                "    MAX(level) OVER (PARTITION BY [user]) AS maximum_level\r\n",
                "FROM \r\n",
                "    indiez..data_interview\r\n",
                "WHERE\r\n",
                "    version = '1.6.0'"
            ],
            "metadata": {
                "language": "sql",
                "azdata_cell_guid": "ceb95610-4272-4fa4-9a7a-028de2e77206",
                "tags": [
                    "hide_input"
                ]
            },
            "outputs": [],
            "execution_count": null
        },
        {
            "cell_type": "markdown",
            "source": [
                "Once again, other statistical tools were used to summarize the above information about the maximum effort of players from both versions. The result is shown in the following images.\n",
                "\n",
                "### **Maximum effort by version 1.5.2:**\n",
                "\n",
                "![](.\\statistical-info-152.png)\n",
                "\n",
                "### **Maximum effort by version 1.6.0:**\n",
                "\n",
                "![](.\\statistical-info-160.png)\n",
                "\n",
                "On average, in both versions, users would play up to level 6 and stop using the app. In contrast to user engagement, the maximum level players in 1.6.0 could reach in 7 days was level 519, while players in version 1.5.2 could only reach level 376 in the same time range. Similar to the user engagement, version 1.6.0 also witnessed an increase in median, quartiles and average, which shows quite a positive view of the improvement program."
            ],
            "metadata": {
                "language": "sql",
                "azdata_cell_guid": "6ad31a39-a48c-4b9e-879e-72fc0b82d22c"
            },
            "attachments": {}
        },
        {
            "cell_type": "markdown",
            "source": [
                "## **1-round players**\n",
                "\n",
                "When inspecting the data, it can be seen that there are some players who stopped after playing the first level. Hypothetically, this can be used to evaluate the efficacy of the in-game tutorial.\n",
                "\n",
                "The table below shows the proportion of players who stopped playing the game after the first level."
            ],
            "metadata": {
                "language": "sql",
                "azdata_cell_guid": "507c6908-2e95-483d-bf0a-7bb7a77bd147"
            },
            "attachments": {}
        },
        {
            "cell_type": "code",
            "source": [
                "SELECT\r\n",
                "    total_table.version,\r\n",
                "    stop_after_lvl_1,\r\n",
                "    total_players,\r\n",
                "    ROUND((CAST(stop_after_lvl_1 AS float)/CAST(total_players AS float))*100, 2) AS percentage\r\n",
                "FROM (\r\n",
                "    SELECT\r\n",
                "        version,\r\n",
                "        COUNT(DISTINCT [user]) AS total_players\r\n",
                "    FROM\r\n",
                "        indiez..data_interview\r\n",
                "    GROUP BY\r\n",
                "        version) AS total_table\r\n",
                "    JOIN \r\n",
                "    (SELECT\r\n",
                "        version,\r\n",
                "        COUNT(maximum_level) AS stop_after_lvl_1\r\n",
                "    FROM \r\n",
                "        (SELECT\r\n",
                "            DISTINCT [user],\r\n",
                "            MAX(level) OVER (PARTITION BY [user]) AS maximum_level,\r\n",
                "            version\r\n",
                "        FROM \r\n",
                "            indiez..data_interview) AS maximum_attempt\r\n",
                "    WHERE \r\n",
                "        maximum_level = 1\r\n",
                "    GROUP BY\r\n",
                "        version) AS temptable\r\n",
                "    ON temptable.version = total_table.version"
            ],
            "metadata": {
                "language": "sql",
                "azdata_cell_guid": "51416b24-616a-4874-81ae-b8643dd2fd84",
                "tags": [
                    "hide_input"
                ]
            },
            "outputs": [
                {
                    "output_type": "display_data",
                    "data": {
                        "text/html": "(2 rows affected)"
                    },
                    "metadata": {}
                },
                {
                    "output_type": "display_data",
                    "data": {
                        "text/html": "Total execution time: 00:00:03.728"
                    },
                    "metadata": {}
                },
                {
                    "output_type": "execute_result",
                    "execution_count": 10,
                    "data": {
                        "application/vnd.dataresource+json": {
                            "schema": {
                                "fields": [
                                    {
                                        "name": "version"
                                    },
                                    {
                                        "name": "stop_after_lvl_1"
                                    },
                                    {
                                        "name": "total_players"
                                    },
                                    {
                                        "name": "percentage"
                                    }
                                ]
                            },
                            "data": [
                                {
                                    "version": "1.5.2",
                                    "stop_after_lvl_1": "434",
                                    "total_players": "6671",
                                    "percentage": "6.51"
                                },
                                {
                                    "version": "1.6.0",
                                    "stop_after_lvl_1": "500",
                                    "total_players": "6929",
                                    "percentage": "7.22"
                                }
                            ]
                        },
                        "text/html": "<table><tr><th>version</th><th>stop_after_lvl_1</th><th>total_players</th><th>percentage</th></tr><tr><td>1.5.2</td><td>434</td><td>6671</td><td>6.51</td></tr><tr><td>1.6.0</td><td>500</td><td>6929</td><td>7.22</td></tr></table>"
                    },
                    "metadata": {}
                }
            ],
            "execution_count": 10
        },
        {
            "cell_type": "code",
            "source": [
                "SELECT\r\n",
                "    temptable1.version,\r\n",
                "    lost_lvl_1,\r\n",
                "    stop_after_lvl_1,\r\n",
                "    ROUND((CAST(lost_lvl_1 AS float)/CAST(stop_after_lvl_1 AS float))*100, 2) AS percentage\r\n",
                "FROM (\r\n",
                "    SELECT\r\n",
                "        version,\r\n",
                "        COUNT(maximum_level) AS lost_lvl_1\r\n",
                "    FROM \r\n",
                "        (SELECT\r\n",
                "            DISTINCT [user],\r\n",
                "            MAX(level) OVER (PARTITION BY [user]) AS maximum_level,\r\n",
                "            version,\r\n",
                "            win\r\n",
                "        FROM \r\n",
                "            indiez..data_interview) AS maximum_attempt\r\n",
                "    WHERE \r\n",
                "        maximum_level = 1\r\n",
                "        AND\r\n",
                "        win = 0\r\n",
                "    GROUP BY\r\n",
                "        version) AS temptable1\r\n",
                "    JOIN \r\n",
                "    (SELECT\r\n",
                "        version,\r\n",
                "        COUNT(maximum_level) AS stop_after_lvl_1\r\n",
                "    FROM \r\n",
                "        (SELECT\r\n",
                "            DISTINCT [user],\r\n",
                "            MAX(level) OVER (PARTITION BY [user]) AS maximum_level,\r\n",
                "            version\r\n",
                "        FROM \r\n",
                "            indiez..data_interview) AS maximum_attempt\r\n",
                "    WHERE \r\n",
                "        maximum_level = 1\r\n",
                "    GROUP BY\r\n",
                "        version) AS temptable2\r\n",
                "    ON temptable1.version = temptable2.version"
            ],
            "metadata": {
                "language": "sql",
                "azdata_cell_guid": "eefb57cd-f55b-49cf-a029-3b3b213dcaa3",
                "tags": [
                    "hide_input"
                ]
            },
            "outputs": [
                {
                    "output_type": "display_data",
                    "data": {
                        "text/html": "(2 rows affected)"
                    },
                    "metadata": {}
                },
                {
                    "output_type": "display_data",
                    "data": {
                        "text/html": "Total execution time: 00:00:06.264"
                    },
                    "metadata": {}
                },
                {
                    "output_type": "execute_result",
                    "execution_count": 11,
                    "data": {
                        "application/vnd.dataresource+json": {
                            "schema": {
                                "fields": [
                                    {
                                        "name": "version"
                                    },
                                    {
                                        "name": "lost_lvl_1"
                                    },
                                    {
                                        "name": "stop_after_lvl_1"
                                    },
                                    {
                                        "name": "percentage"
                                    }
                                ]
                            },
                            "data": [
                                {
                                    "version": "1.5.2",
                                    "lost_lvl_1": "145",
                                    "stop_after_lvl_1": "434",
                                    "percentage": "33.41"
                                },
                                {
                                    "version": "1.6.0",
                                    "lost_lvl_1": "131",
                                    "stop_after_lvl_1": "500",
                                    "percentage": "26.2"
                                }
                            ]
                        },
                        "text/html": "<table><tr><th>version</th><th>lost_lvl_1</th><th>stop_after_lvl_1</th><th>percentage</th></tr><tr><td>1.5.2</td><td>145</td><td>434</td><td>33.41</td></tr><tr><td>1.6.0</td><td>131</td><td>500</td><td>26.2</td></tr></table>"
                    },
                    "metadata": {}
                }
            ],
            "execution_count": 11
        },
        {
            "cell_type": "markdown",
            "source": [
                "In version 1.5.2, about 6.5% players stopped playing the game after level 1, while the number was about 7.2% in version 1.6.0. Among these two groups, 33.4% of version 1.5.2 players stopped playing the game after losing level 1, while the number is 26.2% in version 1.6.0. <span style=\"color: var(--vscode-foreground);\">A hypothesis can arise at this point: Some players stopped playing the game because of being unclear about the game's rules.</span>\n",
                "\n",
                "However, after looking into the tutorial completion rate of this group of players, it is recognized that none of these players ignored the in-game tutorial, which has turned down the hypothesis."
            ],
            "metadata": {
                "language": "sql",
                "azdata_cell_guid": "560a977f-77de-4150-8cd7-3c0ac87454d3"
            },
            "attachments": {}
        },
        {
            "cell_type": "markdown",
            "source": [
                "# **Key findings**\n",
                "\n",
                "The table below shows the key findings in this analysis with the timeframe of the **_first 7 days after users' first activities in the game_**.\n",
                "\n",
                "|  | Version 1.5.2 | Version 1.6.0 |\n",
                "| --- | :-: | :-: |\n",
                "| Tutorial engagement | 95% | 94.8% |\n",
                "| Retention rate | 26.7% → 2.7% | 28.8% → 4.2%<br>(slightly higher) |\n",
                "| Average user engagement (times) | 5 | 5 |\n",
                "| Average maximum level | 6 | 6 |\n",
                "| Players stopped playing after level 1<br>(compared to total) | 6.5% | 7.2% |\n",
                "| Players lost level 1 and stopped playing<br>(compared to total players that stopped playing after level 1) | 33.4% | 26.2% |"
            ],
            "metadata": {
                "language": "sql",
                "azdata_cell_guid": "b19b0635-3c65-4b6c-84ef-309cae2aae03"
            },
            "attachments": {}
        },
        {
            "cell_type": "markdown",
            "source": [
                "# **Conclusion**\n",
                "\n",
                "## **Tutorial engagement**\n",
                "\n",
                "- In both versions, a very high percentage of new players participated in the in-game tutorial.\n",
                "- <span style=\"color: var(--vscode-foreground);\">There is a high percentage of players who stopped playing the game after only the first level, nearly 30% of whom stopped playing after losing. Although it can be inferred that this group of users stopped playing the game because of being unclear about the game's rules, the tutorial completion rate has shown that all of these players finished the tutorial game.</span>\n",
                "- <span style=\"color: var(--vscode-foreground);\">One possible factor that shows the impacts of tutorial-enhancement to improving UX is the retention rate: More users of version 1.6.0 continued playing the game than that of version 1.5.2.</span>\n",
                "\n",
                "## **Possibility to reach 100% roll-out rate**\n",
                "\n",
                "- Although differences in two versions can be seen after analyzing, they are not significant enough to conclude about the prominence of version 1.6.0 to reach 100% roll-out rate.\n",
                "- The retention rate of version 1.6.0 was promising at the beginning of the game. However, it can be seen that although improvement in version 1.6.0 had resulted in more users coming back for the game, the rate still witnessed a dramatic drop from day 2.\n",
                "- On average, in both versions, players engaged in the game for about 5 times in 7 days and played up to level 6. Considering the changes in user guidance, this can be inferred that there was not much improvement in the ability to retain players."
            ],
            "metadata": {
                "language": "sql",
                "azdata_cell_guid": "ed973942-fc8c-4d5d-86c8-06ae167c3c72"
            },
            "attachments": {}
        },
        {
            "cell_type": "markdown",
            "source": [
                "# **Recommendation**\n",
                "\n",
                "From my point of view, based on the findings that were inferred from the data and the personal experience I have had with the game of both versions so far, there are some changes that can be made to the game to enhance the attrativeness and improve UX.\n",
                "\n",
                "- **_Tutorial gameplay can be clearer:_** More explanations, using either words or illustrations, can be on the screen so that players can be more clearly stated about how the game works. The explanation can be in the form of a dynamic slideshow, showing the possible moves to win the round.\n",
                "- **_User interface can be improved:_** The elements on the screen can be highlighted and explained at the beginning of the tutorial game."
            ],
            "metadata": {
                "language": "sql",
                "azdata_cell_guid": "4b9d1604-21e5-4a21-a1ef-5ad5c854d496"
            },
            "attachments": {}
        }
    ]
}